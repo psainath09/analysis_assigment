{
 "cells": [
  {
   "cell_type": "code",
   "execution_count": 9,
   "id": "5cc262c5-4b7b-49ac-be45-1fc9147bc729",
   "metadata": {},
   "outputs": [],
   "source": [
    "from logging import exception\n",
    "\n",
    "from pyspark.sql import SparkSession\n",
    "import pyspark.sql.functions as F\n",
    "import sys,argparse\n",
    "from pyspark.sql.functions import col, to_date, date_format, dayofweek, lit,explode, struct, to_timestamp, count"
   ]
  },
  {
   "cell_type": "code",
   "execution_count": 10,
   "id": "d408fff3-0897-4595-974b-2b6ccc02b95b",
   "metadata": {},
   "outputs": [],
   "source": [
    "spark = SparkSession.builder \\\n",
    "        .appName(\"KLM Popular Destinations\") \\\n",
    "        .config(\"spark.sql.shuffle.partitions\", \"200\") \\\n",
    "        .getOrCreate()"
   ]
  },
  {
   "cell_type": "code",
   "execution_count": 11,
   "id": "94ee43d1-8273-4e1e-b3f4-dd626aba3197",
   "metadata": {},
   "outputs": [],
   "source": [
    "bookings_df = spark.read.option(\"mode\", \"PERMISSIVE\") \\\n",
    "            .option(\"columnNameOfCorruptRecord\", \"_corrupt_record\") \\\n",
    "            .json(\"../../data\" + \"/bookings/booking.json\")\n",
    "airports_df = spark.read.csv(\"../../data\"+\"/airports/airports.dat\")"
   ]
  },
  {
   "cell_type": "code",
   "execution_count": 12,
   "id": "1b40aa63-14e2-45f4-8226-a09b33471c53",
   "metadata": {},
   "outputs": [],
   "source": [
    "airports_df_cols = [\"airport_id\",\"name\",\"city\",\"country\",\"iata\",\"icao\",\"latitude\",\"longitude\",\"altitude\",\"timezone\",\"dst\",\"tz_database_time_zone\",\"type\",\"source\"]\n",
    "airports_df = airports_df.toDF(*airports_df_cols)"
   ]
  },
  {
   "cell_type": "code",
   "execution_count": 13,
   "id": "211c283d-f964-4a53-a4af-09ad66cc123d",
   "metadata": {},
   "outputs": [],
   "source": [
    "bookings_exploded = bookings_df.withColumn(\"passenger\",\n",
    "                                               F.explode(col(\"event.DataElement.travelrecord.passengersList\"))) \\\n",
    "        .withColumn(\"product\", F.explode(col(\"event.DataElement.travelrecord.productsList\")))\n",
    "\n",
    "bookings_flattened = bookings_exploded.select(\n",
    "    col(\"timestamp\"),\n",
    "    # Travel record fields\n",
    "    col(\"event.DataElement.travelrecord.attributeType\").alias(\"attributeType\"),\n",
    "    col(\"event.DataElement.travelrecord.creationDate\").alias(\"creationDate\"),\n",
    "    col(\"event.DataElement.travelrecord.envelopNumber\").alias(\"envelopNumber\"),\n",
    "    # Passenger fields\n",
    "    col(\"passenger.age\").alias(\"passenger_age\"),\n",
    "    col(\"passenger.category\").alias(\"passenger_category\"),\n",
    "    col(\"passenger.crid\").alias(\"passenger_crid\"),\n",
    "    col(\"passenger.passengerType\").alias(\"passenger_type\"),\n",
    "    col(\"passenger.tattoo\").alias(\"passenger_tattoo\"),\n",
    "    col(\"passenger.uci\").alias(\"passenger_uci\"),\n",
    "    col(\"passenger.weight\").alias(\"passenger_weight\"),\n",
    "    # Product fields\n",
    "    col(\"product.aircraftType\").alias(\"product_aircraft_type\"),\n",
    "    col(\"product.bookingClass\").alias(\"product_booking_class\"),\n",
    "    col(\"product.bookingStatus\").alias(\"product_booking_status\"),\n",
    "    col(\"product.flight.arrivalDate\").alias(\"product_arrival_date\"),\n",
    "    col(\"product.flight.departureDate\").alias(\"product_departure_date\"),\n",
    "    col(\"product.flight.originAirport\").alias(\"product_origin_airport\"),\n",
    "    col(\"product.flight.destinationAirport\").alias(\"product_destination_airport\"),\n",
    "    col(\"product.flight.marketingAirline\").alias(\"product_marketing_airline\"),\n",
    "    col(\"product.flight.operatingAirline\").alias(\"product_operating_airline\"),\n",
    "    col(\"product.transportClass\").alias(\"product_transport_class\"),\n",
    "    col(\"product.type\").alias(\"product_type\"))"
   ]
  },
  {
   "cell_type": "code",
   "execution_count": 14,
   "id": "01e9e99d-cb74-40a1-9b96-0f3f968becdc",
   "metadata": {},
   "outputs": [],
   "source": [
    "bookings_flattened = bookings_flattened.withColumn(\"timestamp\",\n",
    "                                                       to_timestamp(col(\"timestamp\"), \"yyyy-MM-dd'T'HH:mm:ss.SSS'Z'\")) \\\n",
    "        .withColumn(\"creationDate\", to_timestamp(col(\"creationDate\"), \"yyyy-MM-dd'T'HH:mm:ss'Z'\")) \\\n",
    "        .withColumn(\"product_arrival_date\", to_timestamp(col(\"product_arrival_date\"), \"yyyy-MM-dd'T'HH:mm:ss'Z'\")) \\\n",
    "        .withColumn(\"product_departure_date\", to_timestamp(col(\"product_departure_date\"), \"yyyy-MM-dd'T'HH:mm:ss'Z'\"))\n"
   ]
  },
  {
   "cell_type": "code",
   "execution_count": 15,
   "id": "7132dada-73cc-4c5f-813a-ee3115bb741e",
   "metadata": {},
   "outputs": [],
   "source": [
    "start_date=\"2019-03-01\"\n",
    "end_date=\"2019-03-31\""
   ]
  },
  {
   "cell_type": "code",
   "execution_count": 16,
   "id": "bff909c4-14a8-4104-a775-28cb02c505ba",
   "metadata": {},
   "outputs": [],
   "source": [
    "filtered_bookings_df = bookings_flattened.filter(\n",
    "        (col(\"timestamp\") >= start_date) &\n",
    "        (col(\"timestamp\") <= end_date) &\n",
    "        (col(\"product_booking_status\") == \"CONFIRMED\") &\n",
    "        (col(\"product_operating_airline\").startswith(\"KL\"))\n",
    ")"
   ]
  },
  {
   "cell_type": "code",
   "execution_count": 17,
   "id": "de9c1538-ac09-4679-8682-ae125e75710b",
   "metadata": {},
   "outputs": [
    {
     "data": {
      "text/plain": [
       "9135"
      ]
     },
     "execution_count": 17,
     "metadata": {},
     "output_type": "execute_result"
    }
   ],
   "source": [
    "bookings_df.count()"
   ]
  },
  {
   "cell_type": "code",
   "execution_count": 30,
   "id": "8a7f8eaa-0135-4388-be14-d3640fec72fb",
   "metadata": {},
   "outputs": [
    {
     "name": "stdout",
     "output_type": "stream",
     "text": [
      "+--------------------+-------------+-------------------+-------------+-------------+------------------+--------------+--------------+----------------+----------------+----------------+---------------------+---------------------+----------------------+--------------------+----------------------+----------------------+---------------------------+-------------------------+-------------------------+-----------------------+------------+\n",
      "|           timestamp|attributeType|       creationDate|envelopNumber|passenger_age|passenger_category|passenger_crid|passenger_type|passenger_tattoo|   passenger_uci|passenger_weight|product_aircraft_type|product_booking_class|product_booking_status|product_arrival_date|product_departure_date|product_origin_airport|product_destination_airport|product_marketing_airline|product_operating_airline|product_transport_class|product_type|\n",
      "+--------------------+-------------+-------------------+-------------+-------------+------------------+--------------+--------------+----------------+----------------+----------------+---------------------+---------------------+----------------------+--------------------+----------------------+----------------------+---------------------------+-------------------------+-------------------------+-----------------------+------------+\n",
      "|2019-03-17 13:47:...|         NULL|2019-03-17 12:28:00|           18|           45|                P0|          NULL|           ADT|               2|20062C080003242E|              96|                  73H|                    G|             CONFIRMED|2019-06-18T08:45:00Z|  2019-06-18T06:05:00Z|                   GLA|                        AMS|                       KL|                       KL|                      M| ns2:Segment|\n",
      "|2019-03-17 13:47:...|         NULL|2019-03-17 12:28:00|           18|           45|                P0|          NULL|           ADT|               2|20062C080003242E|              96|                  73W|                    G|             CONFIRMED|2019-08-13T16:05:00Z|  2019-08-13T15:35:00Z|                   AMS|                        GLA|                       KL|                       KL|                      M| ns2:Segment|\n",
      "+--------------------+-------------+-------------------+-------------+-------------+------------------+--------------+--------------+----------------+----------------+----------------+---------------------+---------------------+----------------------+--------------------+----------------------+----------------------+---------------------------+-------------------------+-------------------------+-----------------------+------------+\n",
      "\n"
     ]
    }
   ],
   "source": [
    "filtered_bookings_df.filter(col(\"passenger_uci\") == \"20062C080003242E\").show()"
   ]
  },
  {
   "cell_type": "code",
   "execution_count": 26,
   "id": "ec032c7f-e453-4a90-b66a-65eb07846efa",
   "metadata": {},
   "outputs": [],
   "source": [
    "x=filtered_bookings_df.dropDuplicates()"
   ]
  },
  {
   "cell_type": "code",
   "execution_count": 61,
   "id": "396406ad-31e6-47d1-bb4d-3a77c71844a4",
   "metadata": {},
   "outputs": [],
   "source": [
    "joined_df = filtered_bookings_df.join(\n",
    "    airports_df,\n",
    "    filtered_bookings_df.product_origin_airport == airports_df.iata,\n",
    "    'left'\n",
    ").select(\n",
    "    col(\"timestamp\"),\n",
    "    col(\"product_origin_airport\"),\n",
    "    col(\"country\"),\n",
    "    col(\"passenger_uci\"),\n",
    "    col(\"passenger_age\"),\n",
    "    col(\"passenger_type\"),\n",
    "    col(\"product_departure_date\"),\n",
    "    col(\"passenger_category\"))"
   ]
  },
  {
   "cell_type": "code",
   "execution_count": 63,
   "id": "e8c26c59-c94b-45c8-bf47-e7721538fe21",
   "metadata": {},
   "outputs": [],
   "source": [
    "def determine_season(date):\n",
    "    \"\"\"\n",
    "    Determine season based on date\n",
    "    \"\"\"\n",
    "    month = date.month\n",
    "    if month in [12, 1, 2]:\n",
    "        return \"Winter\"\n",
    "    elif month in [3, 4, 5]:\n",
    "        return \"Spring\"\n",
    "    elif month in [6, 7, 8]:\n",
    "        return \"Summer\"\n",
    "    else:\n",
    "        return \"Autumn\""
   ]
  },
  {
   "cell_type": "code",
   "execution_count": 64,
   "id": "c1dd99a8-a087-46d4-91d6-49a7541ef914",
   "metadata": {},
   "outputs": [],
   "source": [
    "\n",
    "# Add season and day of week\n",
    "season_dow_bookings = joined_df.withColumn(\n",
    "    \"season\", F.udf(determine_season)(F.col(\"product_departure_date\"))\n",
    ").withColumn(\n",
    "    \"day_of_week\", F.date_format(F.col(\"product_departure_date\"), \"EEEE\")\n",
    ")"
   ]
  },
  {
   "cell_type": "code",
   "execution_count": null,
   "id": "86ff167a-ccd7-4ad4-9c13-bdc8bca4c577",
   "metadata": {},
   "outputs": [],
   "source": []
  },
  {
   "cell_type": "code",
   "execution_count": 71,
   "id": "aa91aa48-f14e-454c-948d-b2be2a7d79db",
   "metadata": {},
   "outputs": [
    {
     "name": "stdout",
     "output_type": "stream",
     "text": [
      "+--------------+\n",
      "|passenger_type|\n",
      "+--------------+\n",
      "|           CHD|\n",
      "|           ADT|\n",
      "+--------------+\n",
      "\n"
     ]
    }
   ],
   "source": [
    "season_dow_bookings.select(\"passenger_type\").distinct().show()"
   ]
  },
  {
   "cell_type": "code",
   "execution_count": 73,
   "id": "60dfb28b-7ce7-4a42-91e9-6d7089a39adf",
   "metadata": {},
   "outputs": [],
   "source": [
    " destination_analysis = season_dow_bookings.groupBy(\n",
    "        F.col(\"country\"), F.col(\"season\"), F.col(\"day_of_week\")\n",
    "    ).agg(\n",
    "        F.countDistinct(\"passenger_uci\").alias(\"passenger_count\"),\n",
    "        F.avg(\"passenger_age\").alias(\"avg_age\"),\n",
    "        F.sum(F.when(F.col(\"passenger_type\") == (\"ADT\"), 1).otherwise(0)).alias(\"adult_count\"),\n",
    "        F.sum(F.when(F.col(\"passenger_type\") == (\"CHD\"), 1).otherwise(0)).alias(\"child_count\")\n",
    "    ).orderBy(\"passenger_count\", ascending=False)"
   ]
  },
  {
   "cell_type": "code",
   "execution_count": 74,
   "id": "5d567c34-5661-4078-915c-aae811874c0c",
   "metadata": {},
   "outputs": [
    {
     "name": "stdout",
     "output_type": "stream",
     "text": [
      "+--------------+------+-----------+---------------+------------------+-----------+-----------+\n",
      "|       country|season|day_of_week|passenger_count|           avg_age|adult_count|child_count|\n",
      "+--------------+------+-----------+---------------+------------------+-----------+-----------+\n",
      "|   Netherlands|Spring|     Monday|           1010| 38.64224507283633|       2719|         24|\n",
      "|   Netherlands|Spring|     Sunday|            724|   42.723044397463|       1393|         12|\n",
      "|   Netherlands|Spring|     Friday|            425| 47.12249443207127|        638|         21|\n",
      "|   Netherlands|Spring|  Wednesday|            408| 45.16780045351474|        736|          7|\n",
      "|   Netherlands|Spring|    Tuesday|            408|39.630630630630634|        645|         11|\n",
      "|   Netherlands|Spring|   Thursday|            366| 41.72727272727273|        471|          4|\n",
      "|   Netherlands|Spring|   Saturday|            301| 44.66896551724138|        453|          7|\n",
      "|   Netherlands|Summer|   Saturday|            126|37.943661971830984|        201|          9|\n",
      "|     Argentina|Spring|     Monday|            125|45.327586206896555|        171|          2|\n",
      "|   Netherlands|Summer|     Friday|            124|             46.11|        214|         29|\n",
      "|United Kingdom|Spring|     Monday|            117| 45.05263157894737|        157|          1|\n",
      "|   Netherlands|Summer|     Sunday|            115| 46.06666666666667|        181|         16|\n",
      "|   Netherlands|Summer|    Tuesday|            113|            35.725|        177|         28|\n",
      "|   Netherlands|Summer|  Wednesday|            107|34.637362637362635|        159|         18|\n",
      "|       Germany|Spring|     Sunday|            104|41.063291139240505|        139|          0|\n",
      "| United States|Spring|     Sunday|            104| 31.23728813559322|        238|          2|\n",
      "|         Chile|Spring|   Thursday|             96|41.861111111111114|        142|          0|\n",
      "|   Netherlands|Summer|   Thursday|             91|         42.765625|        171|         35|\n",
      "|         Italy|Spring|     Sunday|             89|              38.4|        179|          0|\n",
      "|United Kingdom|Spring|     Sunday|             87| 44.34782608695652|        141|          1|\n",
      "+--------------+------+-----------+---------------+------------------+-----------+-----------+\n",
      "only showing top 20 rows\n",
      "\n"
     ]
    }
   ],
   "source": [
    "destination_analysis.show()"
   ]
  },
  {
   "cell_type": "code",
   "execution_count": null,
   "id": "9f86f288-9e7f-4bed-bb86-8498b272f190",
   "metadata": {},
   "outputs": [],
   "source": []
  }
 ],
 "metadata": {
  "kernelspec": {
   "display_name": "Python 3 (ipykernel)",
   "language": "python",
   "name": "python3"
  },
  "language_info": {
   "codemirror_mode": {
    "name": "ipython",
    "version": 3
   },
   "file_extension": ".py",
   "mimetype": "text/x-python",
   "name": "python",
   "nbconvert_exporter": "python",
   "pygments_lexer": "ipython3",
   "version": "3.11.6"
  }
 },
 "nbformat": 4,
 "nbformat_minor": 5
}
